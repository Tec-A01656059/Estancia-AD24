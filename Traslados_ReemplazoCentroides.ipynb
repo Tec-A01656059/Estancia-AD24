{
 "cells": [
  {
   "cell_type": "code",
   "execution_count": 9,
   "metadata": {},
   "outputs": [],
   "source": [
    "import pandas as pd\n",
    "import json\n",
    "import geopandas as gpd\n",
    "import shapely\n",
    "from matplotlib import pyplot as plt"
   ]
  },
  {
   "cell_type": "code",
   "execution_count": 10,
   "metadata": {},
   "outputs": [],
   "source": [
    "centroids = gpd.read_file('centroids.geojson')"
   ]
  },
  {
   "cell_type": "code",
   "execution_count": 11,
   "metadata": {},
   "outputs": [],
   "source": [
    "traslados_day0 = pd.read_csv('Day0_Full_Filtered.csv')"
   ]
  },
  {
   "cell_type": "code",
   "execution_count": 12,
   "metadata": {},
   "outputs": [],
   "source": [
    "centromty_polygon = shapely.Polygon([\n",
    "    (-100.351,25.705),\n",
    "    (-100.353,25.671),\n",
    "    (-100.307,25.662),\n",
    "    (-100.278,25.673),\n",
    "    (-100.268,25.683),\n",
    "    (-100.268,25.703)\n",
    "])\n",
    "\n",
    "# create geodataframe\n",
    "centromty_gdf = gpd.GeoDataFrame(geometry=[centromty_polygon])\n",
    "centromty_gdp = gpd.GeoSeries([centromty_polygon]).__geo_interface__"
   ]
  },
  {
   "cell_type": "code",
   "execution_count": 13,
   "metadata": {},
   "outputs": [],
   "source": [
    "# Extract the H3 index of the centroid\n",
    "traslados_day0_keyonly = traslados_day0[['h3_origin','h3_destination','hour_origin','dsemana_origin','count']]"
   ]
  },
  {
   "cell_type": "code",
   "execution_count": 14,
   "metadata": {},
   "outputs": [
    {
     "data": {
      "text/html": [
       "<div>\n",
       "<style scoped>\n",
       "    .dataframe tbody tr th:only-of-type {\n",
       "        vertical-align: middle;\n",
       "    }\n",
       "\n",
       "    .dataframe tbody tr th {\n",
       "        vertical-align: top;\n",
       "    }\n",
       "\n",
       "    .dataframe thead th {\n",
       "        text-align: right;\n",
       "    }\n",
       "</style>\n",
       "<table border=\"1\" class=\"dataframe\">\n",
       "  <thead>\n",
       "    <tr style=\"text-align: right;\">\n",
       "      <th></th>\n",
       "      <th>h3_origin</th>\n",
       "      <th>h3_destination</th>\n",
       "      <th>hour_origin</th>\n",
       "      <th>dsemana_origin</th>\n",
       "      <th>count</th>\n",
       "    </tr>\n",
       "  </thead>\n",
       "  <tbody>\n",
       "    <tr>\n",
       "      <th>0</th>\n",
       "      <td>POINT (-100.27967 25.68893)</td>\n",
       "      <td>POINT (-100.28269 25.69097)</td>\n",
       "      <td>7</td>\n",
       "      <td>0</td>\n",
       "      <td>1</td>\n",
       "    </tr>\n",
       "    <tr>\n",
       "      <th>1</th>\n",
       "      <td>POINT (-100.27967 25.68893)</td>\n",
       "      <td>POINT (-100.28269 25.69097)</td>\n",
       "      <td>10</td>\n",
       "      <td>0</td>\n",
       "      <td>2</td>\n",
       "    </tr>\n",
       "    <tr>\n",
       "      <th>2</th>\n",
       "      <td>POINT (-100.27967 25.68893)</td>\n",
       "      <td>POINT (-100.28269 25.69097)</td>\n",
       "      <td>19</td>\n",
       "      <td>0</td>\n",
       "      <td>2</td>\n",
       "    </tr>\n",
       "    <tr>\n",
       "      <th>3</th>\n",
       "      <td>POINT (-100.27967 25.68893)</td>\n",
       "      <td>POINT (-100.28269 25.69097)</td>\n",
       "      <td>20</td>\n",
       "      <td>0</td>\n",
       "      <td>1</td>\n",
       "    </tr>\n",
       "    <tr>\n",
       "      <th>4</th>\n",
       "      <td>POINT (-100.27967 25.68893)</td>\n",
       "      <td>POINT (-100.27622 25.69028)</td>\n",
       "      <td>2</td>\n",
       "      <td>0</td>\n",
       "      <td>1</td>\n",
       "    </tr>\n",
       "  </tbody>\n",
       "</table>\n",
       "</div>"
      ],
      "text/plain": [
       "                     h3_origin               h3_destination  hour_origin  \\\n",
       "0  POINT (-100.27967 25.68893)  POINT (-100.28269 25.69097)            7   \n",
       "1  POINT (-100.27967 25.68893)  POINT (-100.28269 25.69097)           10   \n",
       "2  POINT (-100.27967 25.68893)  POINT (-100.28269 25.69097)           19   \n",
       "3  POINT (-100.27967 25.68893)  POINT (-100.28269 25.69097)           20   \n",
       "4  POINT (-100.27967 25.68893)  POINT (-100.27622 25.69028)            2   \n",
       "\n",
       "   dsemana_origin  count  \n",
       "0               0      1  \n",
       "1               0      2  \n",
       "2               0      2  \n",
       "3               0      1  \n",
       "4               0      1  "
      ]
     },
     "execution_count": 14,
     "metadata": {},
     "output_type": "execute_result"
    }
   ],
   "source": [
    "# Convert centroids geodataframe to dataframe\n",
    "centroids_df = pd.DataFrame(centroids)\n",
    "\n",
    "reemplazo_traslados = traslados_day0_keyonly.copy()\n",
    "\n",
    "# Replace the h3_origin column in data_traslados_zmm with the corresponding geometry from centroids\n",
    "reemplazo_traslados['h3_origin'] = reemplazo_traslados['h3_origin'].map(centroids_df.set_index('h3_polyfill')['geometry'])\n",
    "\n",
    "# Replace the h3_destination column in data_traslados_zmm with the corresponding geometry from centroids\n",
    "reemplazo_traslados['h3_destination'] = reemplazo_traslados['h3_destination'].map(centroids_df.set_index('h3_polyfill')['geometry'])\n",
    "\n",
    "# Display the data\n",
    "reemplazo_traslados.head()"
   ]
  },
  {
   "cell_type": "code",
   "execution_count": 15,
   "metadata": {},
   "outputs": [],
   "source": [
    "reemplazo_traslados.to_csv('Day0_Full_Filtered_Centroids.csv', index=False)"
   ]
  },
  {
   "cell_type": "code",
   "execution_count": 16,
   "metadata": {},
   "outputs": [],
   "source": [
    "# Create line strings from the origin and destination points\n",
    "reemplazo_traslados['h3_line'] = reemplazo_traslados.apply(lambda x: shapely.geometry.LineString([x['h3_origin'], x['h3_destination']]), axis=1)"
   ]
  },
  {
   "cell_type": "code",
   "execution_count": null,
   "metadata": {},
   "outputs": [],
   "source": [
    "# Divide data into 3 dataframes: one for origin, one for destination and one for the lines\n",
    "origen = reemplazo_traslados[['h3_origin','hour_origin','dsemana_origin','count']].copy()\n",
    "origen['geometry'] = origen['h3_origin']\n",
    "origen.drop(columns=['h3_origin'], inplace=True)\n",
    "origen = gpd.GeoDataFrame(origen)\n",
    "\n",
    "destino = reemplazo_traslados[['h3_destination','hour_origin','dsemana_origin','count']].copy()\n",
    "destino['geometry'] = destino['h3_destination']\n",
    "destino.drop(columns=['h3_destination'], inplace=True)\n",
    "destino = gpd.GeoDataFrame(destino)\n",
    "\n",
    "lineas = reemplazo_traslados[['h3_line','hour_origin','dsemana_origin','count']].copy()\n",
    "lineas['geometry'] = lineas['h3_line']\n",
    "lineas.drop(columns=['h3_line'], inplace=True)\n",
    "lineas = gpd.GeoDataFrame(lineas)"
   ]
  },
  {
   "cell_type": "code",
   "execution_count": null,
   "metadata": {},
   "outputs": [],
   "source": [
    "# Expprt to geojson\n",
    "origen.to_file('Day0_FiltCent_origin.geojson', driver='GeoJSON')\n",
    "destino.to_file('Day0_FiltCent_destination.geojson', driver='GeoJSON')"
   ]
  }
 ],
 "metadata": {
  "kernelspec": {
   "display_name": "SLearn",
   "language": "python",
   "name": "python3"
  },
  "language_info": {
   "codemirror_mode": {
    "name": "ipython",
    "version": 3
   },
   "file_extension": ".py",
   "mimetype": "text/x-python",
   "name": "python",
   "nbconvert_exporter": "python",
   "pygments_lexer": "ipython3",
   "version": "3.11.5"
  }
 },
 "nbformat": 4,
 "nbformat_minor": 2
}
